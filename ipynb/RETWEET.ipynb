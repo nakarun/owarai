{
 "cells": [
  {
   "cell_type": "markdown",
   "metadata": {
    "collapsed": true
   },
   "source": [
    "# RETEET"
   ]
  },
  {
   "cell_type": "code",
   "execution_count": 1,
   "metadata": {
    "collapsed": true
   },
   "outputs": [],
   "source": [
    "from requests_oauthlib import OAuth1Session\n",
    "import json\n",
    "import settings"
   ]
  },
  {
   "cell_type": "code",
   "execution_count": 2,
   "metadata": {
    "collapsed": true
   },
   "outputs": [],
   "source": [
    "twitter = OAuth1Session(settings.CONSUMER_KEY, settings.CONSUMER_SECRET, settings.ACCESS_TOKEN, settings.ACCESS_TOKEN_SECRET)"
   ]
  },
  {
   "cell_type": "markdown",
   "metadata": {
    "collapsed": true
   },
   "source": [
    "### 関数"
   ]
  },
  {
   "cell_type": "code",
   "execution_count": 3,
   "metadata": {
    "collapsed": true
   },
   "outputs": [],
   "source": [
    "import search_word"
   ]
  },
  {
   "cell_type": "code",
   "execution_count": 4,
   "metadata": {
    "collapsed": true
   },
   "outputs": [],
   "source": [
    "def retweet(sw):\n",
    "    params = {}\n",
    "    req = twitter.get(\"https://api.twitter.com/1.1/search/tweets.json?q={word}&count=10\".format(word=sw), params = params)\n",
    "    tweets = json.loads(req.text)\n",
    "    for tweet_statuses in tweets['statuses']:\n",
    "        tweet_id = tweet_statuses['id']\n",
    "        params = {}\n",
    "        print('***')\n",
    "        print(tweet_statuses['text'])\n",
    "        req = twitter.post(\"https://api.twitter.com/1.1/statuses/retweet/{tweet_id}.json\".format(tweet_id=tweet_id),params = params)"
   ]
  },
  {
   "cell_type": "code",
   "execution_count": 5,
   "metadata": {
    "collapsed": true
   },
   "outputs": [
    {
     "name": "stdout",
     "output_type": "stream",
     "text": [
      "***\n",
      "【定期】\n",
      "\n",
      "like ♡\n",
      "\n",
      " むすめん。  ちょこぼ  流れ星 \n",
      " 磁石  ウーマン  チーモン\n",
      " back number  娘。  Berryz工房\n",
      "***\n",
      "[定期]E[さつき]ｮ・_・｡)です。お笑い愛。チーモン、ライファミ、age麺、ばち麺。アニメは電波女、ソウルイーター、日常、プリキュア、まりほり、花いろ、マクロスＦ、けいおん、Ａch、ローゼン、バカテス、これゾン。歌はserial TV drama、ボカロ、ホルモン。\n",
      "***\n",
      "〈定期〉\n",
      "ライセンス　NONSTYLE　ランパンプス　相席スタート　チーモンチョウチュー　てのりタイガー　ペペ　猫足バスタブ　ラフ・コントロール　フランクリン　ちんぺい　ゆったり感　エリートヤンキー　ジューシーズ\n",
      "etc...が好きです!!よかったら声かけてください\n",
      "***\n",
      "特別♡☞ライセンス・ライファミ・オードリー・チュート\n",
      "好き♡☞NON STYLE・バカリズム・チーモン・磁石・流れ星・パンサー\n",
      "新垢で笑友さんほしいです！！(∩´͈ ᐜ `͈∩)\n",
      "ぜひRTを。笑\n",
      "#好きな芸人さん載せて1つでも被ったらrt\n",
      "#RTした人全員フォローする\n",
      "***\n",
      "【定期】チーモン ジャンポケ しずる LLR パンサー ブロキャス アーム うしろシティ 御茶男 ミルクラ ウーマン  …etc お笑い大好きです(*^^*)♡  好きな芸人さん被ってたらRTお願いします ♪  全力でフォロー＆絡みに行きます(((o(*ﾟ▽ﾟ*)o)))\n",
      "***\n",
      "今日チーモン大船来るじゃん。\n",
      "めっちゃ会えるじゃん。\n",
      "でもやることあるから無理じゃん。\n",
      "しんどい。\n",
      "***\n",
      "[入隊中]白井チーモンにスネ蹴られ隊No.20にしじと文様に挟まれ隊No.06チーモンのゆかいの世界に浸り隊No.3番ライ兄に制服着てもらい隊No.34房野さんの握ったおにぎり食べ隊no.8藤原さんの白い太い腕に抱きしめられ隊No.18\n",
      "***\n",
      "白井チーモンにスネ蹴られ隊No.20にしじと文様に挟まれ隊No.06チーモンのゆかいの世界に浸り隊No.3番ライ兄に制服着てもらい隊No.34房野さんの握ったおにぎり食べ隊no.8藤原さんの白い太い腕に抱きしめられ隊No.18\n",
      "***\n",
      "[定期]お笑い垢です。NON STYLE、ﾁｰﾓﾝ､ﾌﾞﾛｷｬｽ､LLR､ﾗｲｾﾝｽ､etc…大好きです♡!気軽に話しかけて下さい(^^)/\n",
      "***\n",
      "@hkumrh12 この垢でお笑い好きな人に出会えるとは🙋💓 \n",
      "きゃーー！！磁石好きな人いないからすごくうれしい(;_;)(;_;)  やっぱり決勝はみんな強いからなかなか難しいですよね...😭\n",
      "新年早々チーモンのよしもとライブありますよね！行くんですか～？😊✨\n"
     ]
    }
   ],
   "source": [
    "retweet(search_word.chimon)"
   ]
  },
  {
   "cell_type": "code",
   "execution_count": 6,
   "metadata": {
    "collapsed": true
   },
   "outputs": [
    {
     "name": "stdout",
     "output_type": "stream",
     "text": [
      "***\n",
      "RT @koumoto1101: 【キャンディーベル出演者続き】　タツコ・トモコ、ダムラン、ちょむ＆マッキー、電撃ネットワークjr.、ばいそん、馬鹿よ貴方は、浜中雄平商店、番犬キスケ、プーケットマーケット、本多スイミングスクール、めいどのみやげ、モンツキはかま、ヤーレンズ、ラン…\n",
      "***\n",
      "2017年1月2日(月) 24:25〜26:00\n",
      "『キングちゃん お正月SP』\n",
      "\n",
      "・ノブ嘆かせ王 第2弾\n",
      "阿佐ヶ谷姉妹、亀田興毅、くっきー、黒沢かずこ、さらば青春の光、中村静香、平井“ファラオ”光、藤本敏史、吉村崇 https://t.co/QXR8BQSfbg\n",
      "***\n",
      "RT @owaraiver: ✔銀シャリ✔馬鹿よ貴方は✔トレンディエンジェル✔ハライチ✔バカリズム✔オードリー✔あばれる君✔コロコロチキチキペッパーズ✔スピードワゴン\n",
      "\n",
      "#笑クラさんと繋がりたい \n",
      "#好きな芸人さん被ったらRT\n",
      "#RTしてくださった方で気になった方フォローする\n",
      "***\n",
      "@twobonai 馬鹿よ貴方はは優勝しなくてもインパクトを残して売れるだろうと踏んでの発言であった。結果、Ｍ-1きっかけで売れたので間違いではなかったのだけども・・・\n",
      "***\n",
      "ちなみに僕にもインタビューで黒歴史がある。２０１４年に受けたインタビューで、「今年のTHE MANZAIは馬鹿よ貴方はが優勝しますよ」と答えているのである。（結果はブロック敗退。）その記事は今もネットの海を彷徨っている。新道さん、ファラオさん、はよ優勝してくれ。\n",
      "***\n",
      "RT @sakichisato: 〈もしもゴダールやアントニオーニが乱歩と出会ったなら〉そんなことも考えながら作りました\n",
      "\n",
      "シリーズ江戸川乱歩短編集Ⅱ『何者』26（月）23:15〜 BSプレミアム\n",
      "【出演】満島ひかり,若葉竜也,池上幸平,平井ファラオ光,真野恵里菜,麿赤兒,野口…\n",
      "***\n",
      "RT @owaraiver: ✔銀シャリ✔馬鹿よ貴方は✔トレンディエンジェル✔ハライチ✔バカリズム✔オードリー✔あばれる君✔コロコロチキチキペッパーズ✔スピードワゴン\n",
      "\n",
      "#笑クラさんと繋がりたい \n",
      "#好きな芸人さん被ったらRT\n",
      "#RTしてくださった方で気になった方フォローする\n",
      "***\n",
      "RT @owaraiver: ✔銀シャリ✔馬鹿よ貴方は✔トレンディエンジェル✔ハライチ✔バカリズム✔オードリー✔あばれる君✔コロコロチキチキペッパーズ✔スピードワゴン\n",
      "\n",
      "#笑クラさんと繋がりたい \n",
      "#好きな芸人さん被ったらRT\n",
      "#RTしてくださった方で気になった方フォローする\n",
      "***\n",
      "RT @koumoto1101: 【キャンディーベル出演者続き】　タツコ・トモコ、ダムラン、ちょむ＆マッキー、電撃ネットワークjr.、ばいそん、馬鹿よ貴方は、浜中雄平商店、番犬キスケ、プーケットマーケット、本多スイミングスクール、めいどのみやげ、モンツキはかま、ヤーレンズ、ラン…\n",
      "***\n",
      "✔銀シャリ✔馬鹿よ貴方は✔トレンディエンジェル✔ハライチ✔バカリズム✔オードリー✔あばれる君✔コロコロチキチキペッパーズ✔スピードワゴン\n",
      "\n",
      "#笑クラさんと繋がりたい \n",
      "#好きな芸人さん被ったらRT\n",
      "#RTしてくださった方で気になった方フォローする\n"
     ]
    }
   ],
   "source": [
    "retweet(search_word.bakayo)"
   ]
  },
  {
   "cell_type": "code",
   "execution_count": null,
   "metadata": {
    "collapsed": true
   },
   "outputs": [],
   "source": []
  }
 ],
 "metadata": {
  "anaconda-cloud": {},
  "kernelspec": {
   "display_name": "Python [Root]",
   "language": "python",
   "name": "Python [Root]"
  },
  "language_info": {
   "codemirror_mode": {
    "name": "ipython",
    "version": 3
   },
   "file_extension": ".py",
   "mimetype": "text/x-python",
   "name": "python",
   "nbconvert_exporter": "python",
   "pygments_lexer": "ipython3",
   "version": "3.5.2"
  }
 },
 "nbformat": 4,
 "nbformat_minor": 0
}
