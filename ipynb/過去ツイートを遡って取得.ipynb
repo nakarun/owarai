{
 "cells": [
  {
   "cell_type": "markdown",
   "metadata": {
    "collapsed": true
   },
   "source": [
    "# 過去ツイートを遡って取得"
   ]
  },
  {
   "cell_type": "markdown",
   "metadata": {},
   "source": [
    "※過去ツイートは8日分遡れる"
   ]
  },
  {
   "cell_type": "code",
   "execution_count": 11,
   "metadata": {
    "collapsed": true
   },
   "outputs": [],
   "source": [
    "from requests_oauthlib import OAuth1Session\n",
    "import json\n",
    "import settings"
   ]
  },
  {
   "cell_type": "code",
   "execution_count": 12,
   "metadata": {
    "collapsed": true
   },
   "outputs": [],
   "source": [
    "twitter = OAuth1Session(settings.CONSUMER_KEY, settings.CONSUMER_SECRET, settings.ACCESS_TOKEN, settings.ACCESS_TOKEN_SECRET)"
   ]
  },
  {
   "cell_type": "code",
   "execution_count": 13,
   "metadata": {
    "collapsed": true
   },
   "outputs": [],
   "source": [
    "import search_word"
   ]
  },
  {
   "cell_type": "markdown",
   "metadata": {},
   "source": [
    "### チーモン"
   ]
  },
  {
   "cell_type": "code",
   "execution_count": 14,
   "metadata": {
    "collapsed": true
   },
   "outputs": [],
   "source": [
    "import sqlite3\n",
    "conn = sqlite3.connect('bakayo_VS_chimon.db')\n",
    "c = conn.cursor()"
   ]
  },
  {
   "cell_type": "code",
   "execution_count": 32,
   "metadata": {
    "collapsed": true
   },
   "outputs": [],
   "source": [
    "query = '''\n",
    "SELECT min(id) FROM chimon_time\n",
    "'''\n",
    "minid = c.execute(query)"
   ]
  },
  {
   "cell_type": "code",
   "execution_count": 33,
   "metadata": {
    "collapsed": false
   },
   "outputs": [
    {
     "data": {
      "text/plain": [
       "799962607293607936"
      ]
     },
     "execution_count": 33,
     "metadata": {},
     "output_type": "execute_result"
    }
   ],
   "source": [
    "list_minid = c.fetchall()\n",
    "min_id = list_minid[0][0]\n",
    "min_id"
   ]
  },
  {
   "cell_type": "code",
   "execution_count": 34,
   "metadata": {
    "collapsed": true
   },
   "outputs": [],
   "source": [
    "import pandas as pd\n",
    "df_tbl = pd.DataFrame(columns=['id', 'week','month','day','time','jisa','year'])"
   ]
  },
  {
   "cell_type": "code",
   "execution_count": 35,
   "metadata": {
    "collapsed": true
   },
   "outputs": [],
   "source": [
    "params = {}\n",
    "req = twitter.get(\"https://api.twitter.com/1.1/search/tweets.json?q={word}&max_id={min_id}&count=10\".format(word=search_word.chimon, min_id=min_id), params = params)\n",
    "tweets = json.loads(req.text)\n",
    "for tweet_statuses in tweets['statuses']:\n",
    "    tweet_id = tweet_statuses['id']\n",
    "    time = tweet_statuses['created_at'].split(' ')\n",
    "    if tweet_id < min_id:\n",
    "        print(tweet_statuses['id'], tweet_statuses['created_at'])\n",
    "        insert_query = '''\n",
    "        INSERT INTO chimon_time VALUES({tweet_id}, '{t1}', '{t2}', {t3}, '{t4}', '{t5}', {t6})\n",
    "        '''.format(tweet_id=tweet_id,t1=time[0],t2=time[1],t3=time[2],t4=time[3],t5=time[4],t6=time[5])\n",
    "        c.execute(insert_query)\n",
    "    \n",
    "        df_addition_row = pd.DataFrame([[tweet_id, time[0], time[1], time[2], time[3], time[4], time[5]]])\n",
    "        df_addition_row.columns = ['id', 'week','month','day','time','jisa','year']\n",
    "        df_tbl = pd.concat([df_tbl,df_addition_row],axis=0)"
   ]
  },
  {
   "cell_type": "code",
   "execution_count": 9,
   "metadata": {
    "collapsed": true
   },
   "outputs": [],
   "source": [
    "conn.commit()"
   ]
  },
  {
   "cell_type": "code",
   "execution_count": 11,
   "metadata": {
    "collapsed": true
   },
   "outputs": [],
   "source": [
    "conn.close()"
   ]
  },
  {
   "cell_type": "markdown",
   "metadata": {},
   "source": [
    "### 馬鹿よ"
   ]
  },
  {
   "cell_type": "code",
   "execution_count": 23,
   "metadata": {
    "collapsed": true
   },
   "outputs": [],
   "source": [
    "import sqlite3\n",
    "conn = sqlite3.connect('bakayo_VS_chimon.db')\n",
    "c = conn.cursor()"
   ]
  },
  {
   "cell_type": "code",
   "execution_count": 28,
   "metadata": {
    "collapsed": true
   },
   "outputs": [],
   "source": [
    "query = '''\n",
    "SELECT min(id) FROM bakayo_time\n",
    "'''\n",
    "minid = c.execute(query)"
   ]
  },
  {
   "cell_type": "code",
   "execution_count": 29,
   "metadata": {
    "collapsed": false
   },
   "outputs": [
    {
     "data": {
      "text/plain": [
       "799843647675977729"
      ]
     },
     "execution_count": 29,
     "metadata": {},
     "output_type": "execute_result"
    }
   ],
   "source": [
    "list_minid = c.fetchall()\n",
    "min_id = list_minid[0][0]\n",
    "min_id"
   ]
  },
  {
   "cell_type": "code",
   "execution_count": 30,
   "metadata": {
    "collapsed": true
   },
   "outputs": [],
   "source": [
    "import pandas as pd\n",
    "df_tbl = pd.DataFrame(columns=['id', 'week','month','day','time','jisa','year'])"
   ]
  },
  {
   "cell_type": "code",
   "execution_count": 31,
   "metadata": {
    "collapsed": false
   },
   "outputs": [],
   "source": [
    "params = {}\n",
    "req = twitter.get(\"https://api.twitter.com/1.1/search/tweets.json?q={word}&max_id={min_id}&count=100\".format(word=search_word.bakayo,min_id=min_id), params = params)\n",
    "tweets = json.loads(req.text)\n",
    "for tweet_statuses in tweets['statuses']:\n",
    "    tweet_id = tweet_statuses['id']\n",
    "    time = tweet_statuses['created_at'].split(' ')\n",
    "    if tweet_id < min_id:\n",
    "        print(tweet_statuses['id'], tweet_statuses['created_at'])\n",
    "        insert_query = '''\n",
    "        INSERT INTO bakayo_time VALUES({tweet_id}, '{t1}', '{t2}', {t3}, '{t4}', '{t5}', {t6})\n",
    "        '''.format(tweet_id=tweet_id,t1=time[0],t2=time[1],t3=time[2],t4=time[3],t5=time[4],t6=time[5])\n",
    "        c.execute(insert_query)\n",
    "    \n",
    "        df_addition_row = pd.DataFrame([[tweet_id, time[0], time[1], time[2], time[3], time[4], time[5]]])\n",
    "        df_addition_row.columns = ['id', 'week','month','day','time','jisa','year']\n",
    "        df_tbl = pd.concat([df_tbl,df_addition_row],axis=0)"
   ]
  },
  {
   "cell_type": "code",
   "execution_count": null,
   "metadata": {
    "collapsed": true
   },
   "outputs": [],
   "source": [
    "conn.commit()"
   ]
  },
  {
   "cell_type": "code",
   "execution_count": 26,
   "metadata": {
    "collapsed": true
   },
   "outputs": [],
   "source": [
    "conn.close()"
   ]
  }
 ],
 "metadata": {
  "kernelspec": {
   "display_name": "Python [Root]",
   "language": "python",
   "name": "Python [Root]"
  },
  "language_info": {
   "codemirror_mode": {
    "name": "ipython",
    "version": 3
   },
   "file_extension": ".py",
   "mimetype": "text/x-python",
   "name": "python",
   "nbconvert_exporter": "python",
   "pygments_lexer": "ipython3",
   "version": "3.5.2"
  }
 },
 "nbformat": 4,
 "nbformat_minor": 0
}
