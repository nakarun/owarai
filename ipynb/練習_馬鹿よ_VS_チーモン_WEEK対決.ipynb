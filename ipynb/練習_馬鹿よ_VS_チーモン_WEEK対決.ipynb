{
 "cells": [
  {
   "cell_type": "markdown",
   "metadata": {},
   "source": [
    "# チーモン VS 馬鹿よ　どっちが人気なの!? 　曜日対決！！！"
   ]
  },
  {
   "cell_type": "code",
   "execution_count": null,
   "metadata": {
    "collapsed": true
   },
   "outputs": [],
   "source": [
    "import matplotlib\n",
    "import matplotlib.pyplot as plt\n",
    "%matplotlib inline"
   ]
  },
  {
   "cell_type": "code",
   "execution_count": 13,
   "metadata": {
    "collapsed": false,
    "scrolled": true
   },
   "outputs": [
    {
     "data": {
      "text/plain": [
       "<matplotlib.text.Text at 0x11a8b1f60>"
      ]
     },
     "execution_count": 13,
     "metadata": {},
     "output_type": "execute_result"
    },
    {
     "name": "stderr",
     "output_type": "stream",
     "text": [
      "/Users/runa/anaconda/lib/python3.5/site-packages/matplotlib/font_manager.py:1288: UserWarning: findfont: Font family ['IPAexGothic'] not found. Falling back to Bitstream Vera Sans\n",
      "  (prop.get_family(), self.defaultFamily[fontext]))\n"
     ]
    },
    {
     "data": {
      "image/png": "[encoded data removed]",
      "text/plain": [
       "<matplotlib.figure.Figure at 0x11a877d68>"
      ]
     },
     "metadata": {},
     "output_type": "display_data"
    }
   ],
   "source": [
    "#正規化\n",
    "df_norm_VS.plot.bar(y=['count_bakayo', 'count_chimon'])\n",
    "plt.title(u'棒グラフ', size=16)"
   ]
  },
  {
   "cell_type": "code",
   "execution_count": 117,
   "metadata": {
    "collapsed": false
   },
   "outputs": [
    {
     "data": {
      "text/plain": [
       "<matplotlib.text.Text at 0x11bf09d30>"
      ]
     },
     "execution_count": 117,
     "metadata": {},
     "output_type": "execute_result"
    },
    {
     "data": {
      "image/png": "[encoded data removed]",
      "text/plain": [
       "<matplotlib.figure.Figure at 0x11b0b1320>"
      ]
     },
     "metadata": {},
     "output_type": "display_data"
    }
   ],
   "source": [
    "#単純\n",
    "df_VS.plot.bar(y=['count_id_x', 'count_id_y'])\n",
    "plt.title(u'棒グラフ', size=16)"
   ]
  },
  {
   "cell_type": "code",
   "execution_count": null,
   "metadata": {
    "collapsed": true
   },
   "outputs": [],
   "source": []
  },
  {
   "cell_type": "markdown",
   "metadata": {},
   "source": [
    "### 馬鹿よ"
   ]
  },
  {
   "cell_type": "code",
   "execution_count": 1,
   "metadata": {
    "collapsed": true
   },
   "outputs": [],
   "source": [
    "import sqlite3\n",
    "conn = sqlite3.connect('bakayo_VS_chimon.db')\n",
    "c = conn.cursor()"
   ]
  },
  {
   "cell_type": "code",
   "execution_count": 2,
   "metadata": {
    "collapsed": true
   },
   "outputs": [],
   "source": [
    "query = '''\n",
    "SELECT count(id), week FROM bakayo_time GROUP BY week\n",
    "'''\n",
    "count_id = c.execute(query)"
   ]
  },
  {
   "cell_type": "markdown",
   "metadata": {},
   "source": [
    "#### 単純"
   ]
  },
  {
   "cell_type": "code",
   "execution_count": 185,
   "metadata": {
    "collapsed": true
   },
   "outputs": [],
   "source": [
    "import pandas as pd\n",
    "df_bakayo = pd.DataFrame(columns=['count_id','week'])"
   ]
  },
  {
   "cell_type": "code",
   "execution_count": 200,
   "metadata": {
    "collapsed": true
   },
   "outputs": [
    {
     "name": "stdout",
     "output_type": "stream",
     "text": [
      "(566, 'Fri')\n",
      "(167, 'Mon')\n",
      "(226, 'Sat')\n",
      "(603, 'Sun')\n",
      "(89, 'Thu')\n",
      "(121, 'Tue')\n",
      "(197, 'Wed')\n"
     ]
    }
   ],
   "source": [
    "for row in count_id:\n",
    "    print(row)\n",
    "    df_addition_row = pd.DataFrame([[row[0], row[1]]])\n",
    "    df_addition_row.columns = ['count_id','week']\n",
    "    df_bakayo = pd.concat([df_bakayo,df_addition_row],axis=0)"
   ]
  },
  {
   "cell_type": "markdown",
   "metadata": {},
   "source": [
    "#### 正規化"
   ]
  },
  {
   "cell_type": "code",
   "execution_count": 294,
   "metadata": {
    "collapsed": true
   },
   "outputs": [],
   "source": [
    "#import pandas as pd\n",
    "#df_bakayo = pd.DataFrame(columns=['count_id'], index=['Sun', 'Mon', 'Tue', 'Wed', 'Thu', 'Fri', 'Sat'])\n",
    "#df_bakayo = pd.DataFrame(index=['Sun', 'Mon', 'Tue', 'Wed', 'Thu', 'Fri', 'Sat'])"
   ]
  },
  {
   "cell_type": "code",
   "execution_count": 3,
   "metadata": {
    "collapsed": false
   },
   "outputs": [],
   "source": [
    "import pandas as pd\n",
    "df_bakayo = pd.DataFrame(columns=['count_bakayo'])"
   ]
  },
  {
   "cell_type": "code",
   "execution_count": 4,
   "metadata": {
    "collapsed": true
   },
   "outputs": [
    {
     "name": "stdout",
     "output_type": "stream",
     "text": [
      "Fri\n",
      "       0\n",
      "Fri  566\n",
      "Mon\n",
      "       0\n",
      "Mon  167\n",
      "Sat\n",
      "       0\n",
      "Sat  226\n",
      "Sun\n",
      "       0\n",
      "Sun  603\n",
      "Thu\n",
      "      0\n",
      "Thu  89\n",
      "Tue\n",
      "       0\n",
      "Tue  141\n",
      "Wed\n",
      "       0\n",
      "Wed  197\n"
     ]
    }
   ],
   "source": [
    "for row in count_id:\n",
    "    #print(row[1])\n",
    "    #df_addition_row = pd.DataFrame\n",
    "    df_addition_row = pd.DataFrame([row[0]], index=[row[1]])\n",
    "    #print(df_addition_row)\n",
    "    df_addition_row.columns = ['count_bakayo']\n",
    "    #df_addition_row.index = [row[1]]\n",
    "    df_bakayo = pd.concat([df_bakayo,df_addition_row], axis=0)"
   ]
  },
  {
   "cell_type": "code",
   "execution_count": 5,
   "metadata": {
    "collapsed": false
   },
   "outputs": [],
   "source": [
    "df_norm_bakayo = df_bakayo.div(df_bakayo.T.sum(1), axis=1)"
   ]
  },
  {
   "cell_type": "markdown",
   "metadata": {},
   "source": [
    "### グラフ描写"
   ]
  },
  {
   "cell_type": "code",
   "execution_count": 12,
   "metadata": {
    "collapsed": true
   },
   "outputs": [],
   "source": [
    "import matplotlib\n",
    "import matplotlib.pyplot as plt\n",
    "%matplotlib inline"
   ]
  },
  {
   "cell_type": "code",
   "execution_count": 121,
   "metadata": {
    "collapsed": false
   },
   "outputs": [
    {
     "data": {
      "text/plain": [
       "<matplotlib.text.Text at 0x11c05bc18>"
      ]
     },
     "execution_count": 121,
     "metadata": {},
     "output_type": "execute_result"
    },
    {
     "data": {
      "image/png": "[encoded data removed]",
      "text/plain": [
       "<matplotlib.figure.Figure at 0x11bfdbe80>"
      ]
     },
     "metadata": {},
     "output_type": "display_data"
    }
   ],
   "source": [
    "df_bakayo.plot.bar(y=['count_id'])\n",
    "plt.title(u'棒グラフ', size=16)"
   ]
  },
  {
   "cell_type": "markdown",
   "metadata": {},
   "source": [
    "### チーモン"
   ]
  },
  {
   "cell_type": "code",
   "execution_count": 23,
   "metadata": {
    "collapsed": true
   },
   "outputs": [],
   "source": [
    "import sqlite3\n",
    "conn = sqlite3.connect('bakayo_VS_chimon.db')\n",
    "c = conn.cursor()"
   ]
  },
  {
   "cell_type": "code",
   "execution_count": 6,
   "metadata": {
    "collapsed": true
   },
   "outputs": [],
   "source": [
    "query = '''\n",
    "SELECT count(id), week FROM chimon_time GROUP BY week\n",
    "'''\n",
    "count_id = c.execute(query)"
   ]
  },
  {
   "cell_type": "markdown",
   "metadata": {},
   "source": [
    "#### 単純"
   ]
  },
  {
   "cell_type": "code",
   "execution_count": 105,
   "metadata": {
    "collapsed": true
   },
   "outputs": [],
   "source": [
    "import pandas as pd\n",
    "df_chimon = pd.DataFrame(columns=['count_id','week'])"
   ]
  },
  {
   "cell_type": "code",
   "execution_count": 106,
   "metadata": {
    "collapsed": true
   },
   "outputs": [
    {
     "name": "stdout",
     "output_type": "stream",
     "text": [
      "(52, 'Fri')\n",
      "(81, 'Mon')\n",
      "(56, 'Sat')\n",
      "(142, 'Sun')\n",
      "(53, 'Thu')\n",
      "(110, 'Tue')\n",
      "(62, 'Wed')\n"
     ]
    }
   ],
   "source": [
    "for row in count_id:\n",
    "    print(row)\n",
    "    df_addition_row = pd.DataFrame([[row[0], row[1]]])\n",
    "    df_addition_row.columns = ['count_id','week']\n",
    "    df_chimon = pd.concat([df_chimon,df_addition_row],axis=0)"
   ]
  },
  {
   "cell_type": "markdown",
   "metadata": {},
   "source": [
    "#### 正規化"
   ]
  },
  {
   "cell_type": "code",
   "execution_count": 7,
   "metadata": {
    "collapsed": true
   },
   "outputs": [],
   "source": [
    "import pandas as pd\n",
    "df_chimon = pd.DataFrame(columns=['count_chimon'])"
   ]
  },
  {
   "cell_type": "code",
   "execution_count": 8,
   "metadata": {
    "collapsed": false
   },
   "outputs": [],
   "source": [
    "for row in count_id:\n",
    "    #print(row[1])\n",
    "    #df_addition_row = pd.DataFrame\n",
    "    df_addition_row = pd.DataFrame([row[0]], index=[row[1]])\n",
    "    #print(df_addition_row)\n",
    "    df_addition_row.columns = ['count_chimon']\n",
    "    #df_addition_row.index = [row[1]]\n",
    "    df_chimon = pd.concat([df_chimon,df_addition_row], axis=0)"
   ]
  },
  {
   "cell_type": "code",
   "execution_count": 9,
   "metadata": {
    "collapsed": false
   },
   "outputs": [],
   "source": [
    "df_norm_chimon = df_chimon.div(df_chimon.T.sum(1), axis=1)"
   ]
  },
  {
   "cell_type": "markdown",
   "metadata": {},
   "source": [
    "### グラフ描写"
   ]
  },
  {
   "cell_type": "code",
   "execution_count": 84,
   "metadata": {
    "collapsed": true
   },
   "outputs": [],
   "source": [
    "import matplotlib\n",
    "import matplotlib.pyplot as plt\n",
    "%matplotlib inline"
   ]
  },
  {
   "cell_type": "code",
   "execution_count": null,
   "metadata": {
    "collapsed": true
   },
   "outputs": [],
   "source": []
  },
  {
   "cell_type": "code",
   "execution_count": 97,
   "metadata": {
    "collapsed": false,
    "scrolled": true
   },
   "outputs": [
    {
     "data": {
      "text/plain": [
       "<matplotlib.text.Text at 0x11b3387f0>"
      ]
     },
     "execution_count": 97,
     "metadata": {},
     "output_type": "execute_result"
    },
    {
     "data": {
      "image/png": "[encoded data removed]",
      "text/plain": [
       "<matplotlib.figure.Figure at 0x11b0a9160>"
      ]
     },
     "metadata": {},
     "output_type": "display_data"
    }
   ],
   "source": [
    "df_chimon.plot.bar(y=['count_id'])\n",
    "plt.title(u'棒グラフ', size=16)"
   ]
  },
  {
   "cell_type": "markdown",
   "metadata": {},
   "source": [
    "### 棒グラフで比較するためにDataFrameをMerge"
   ]
  },
  {
   "cell_type": "code",
   "execution_count": 332,
   "metadata": {
    "collapsed": false
   },
   "outputs": [],
   "source": [
    "#単純な方のマージ\n",
    "df_VS = pd.merge(df_chimon, df_bakayo)"
   ]
  },
  {
   "cell_type": "markdown",
   "metadata": {},
   "source": [
    "※折れ線グラフで表現するの諦めた。っていうか、折れ線グラフってx軸に質的変数取っていいんだっけ？"
   ]
  },
  {
   "cell_type": "code",
   "execution_count": 10,
   "metadata": {
    "collapsed": false
   },
   "outputs": [],
   "source": [
    "#正規化した方のマージ\n",
    "df_norm_VS = df_norm_bakayo.join(df_norm_chimon)"
   ]
  },
  {
   "cell_type": "code",
   "execution_count": null,
   "metadata": {
    "collapsed": true
   },
   "outputs": [],
   "source": []
  }
 ],
 "metadata": {
  "anaconda-cloud": {},
  "kernelspec": {
   "display_name": "Python [Root]",
   "language": "python",
   "name": "Python [Root]"
  },
  "language_info": {
   "codemirror_mode": {
    "name": "ipython",
    "version": 3
   },
   "file_extension": ".py",
   "mimetype": "text/x-python",
   "name": "python",
   "nbconvert_exporter": "python",
   "pygments_lexer": "ipython3",
   "version": "3.5.2"
  }
 },
 "nbformat": 4,
 "nbformat_minor": 0
}
